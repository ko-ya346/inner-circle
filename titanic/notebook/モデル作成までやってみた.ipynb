{
 "cells": [
  {
   "cell_type": "code",
   "execution_count": 1,
   "id": "a21463ee",
   "metadata": {
    "ExecuteTime": {
     "end_time": "2021-07-17T03:50:09.869221Z",
     "start_time": "2021-07-17T03:50:09.702952Z"
    }
   },
   "outputs": [],
   "source": [
    "import pandas as pd"
   ]
  },
  {
   "cell_type": "markdown",
   "id": "161bd0cb",
   "metadata": {},
   "source": [
    "# read csv"
   ]
  },
  {
   "cell_type": "code",
   "execution_count": 2,
   "id": "194e251a",
   "metadata": {
    "ExecuteTime": {
     "end_time": "2021-07-17T03:50:09.878518Z",
     "start_time": "2021-07-17T03:50:09.870164Z"
    }
   },
   "outputs": [],
   "source": [
    "INPUT_DIR = '../input/'\n",
    "\n",
    "train = pd.read_csv(INPUT_DIR + 'train.csv')\n",
    "test = pd.read_csv(INPUT_DIR + 'test.csv')\n",
    "submission = pd.read_csv(INPUT_DIR + 'gender_submission.csv')"
   ]
  },
  {
   "cell_type": "markdown",
   "id": "548e8488",
   "metadata": {},
   "source": [
    "# shape"
   ]
  },
  {
   "cell_type": "code",
   "execution_count": 3,
   "id": "b158a40c",
   "metadata": {
    "ExecuteTime": {
     "end_time": "2021-07-17T03:50:09.881632Z",
     "start_time": "2021-07-17T03:50:09.879681Z"
    }
   },
   "outputs": [
    {
     "name": "stdout",
     "output_type": "stream",
     "text": [
      "(891, 12)\n",
      "(418, 11)\n",
      "(418, 2)\n"
     ]
    }
   ],
   "source": [
    "print(train.shape)\n",
    "print(test.shape)\n",
    "print(submission.shape)"
   ]
  },
  {
   "cell_type": "markdown",
   "id": "cd1f79af",
   "metadata": {},
   "source": [
    "# head"
   ]
  },
  {
   "cell_type": "code",
   "execution_count": 4,
   "id": "bc457583",
   "metadata": {
    "ExecuteTime": {
     "end_time": "2021-07-17T03:50:09.884737Z",
     "start_time": "2021-07-17T03:50:09.882747Z"
    }
   },
   "outputs": [
    {
     "name": "stdout",
     "output_type": "stream",
     "text": [
      "Index(['PassengerId', 'Survived', 'Pclass', 'Name', 'Sex', 'Age', 'SibSp',\n",
      "       'Parch', 'Ticket', 'Fare', 'Cabin', 'Embarked'],\n",
      "      dtype='object')\n",
      "Index(['PassengerId', 'Pclass', 'Name', 'Sex', 'Age', 'SibSp', 'Parch',\n",
      "       'Ticket', 'Fare', 'Cabin', 'Embarked'],\n",
      "      dtype='object')\n"
     ]
    }
   ],
   "source": [
    "print(train.columns)\n",
    "print(test.columns)"
   ]
  },
  {
   "cell_type": "code",
   "execution_count": 5,
   "id": "57a9cdd1",
   "metadata": {
    "ExecuteTime": {
     "end_time": "2021-07-17T03:50:09.890609Z",
     "start_time": "2021-07-17T03:50:09.885561Z"
    }
   },
   "outputs": [
    {
     "data": {
      "text/plain": [
       "{'Survived'}"
      ]
     },
     "execution_count": 5,
     "metadata": {},
     "output_type": "execute_result"
    }
   ],
   "source": [
    "# columnsの差分をみる\n",
    "set(train.columns) - set(test.columns)"
   ]
  },
  {
   "cell_type": "code",
   "execution_count": 6,
   "id": "a4598089",
   "metadata": {
    "ExecuteTime": {
     "end_time": "2021-07-17T03:50:09.900248Z",
     "start_time": "2021-07-17T03:50:09.891458Z"
    }
   },
   "outputs": [
    {
     "data": {
      "text/html": [
       "<div>\n",
       "<style scoped>\n",
       "    .dataframe tbody tr th:only-of-type {\n",
       "        vertical-align: middle;\n",
       "    }\n",
       "\n",
       "    .dataframe tbody tr th {\n",
       "        vertical-align: top;\n",
       "    }\n",
       "\n",
       "    .dataframe thead th {\n",
       "        text-align: right;\n",
       "    }\n",
       "</style>\n",
       "<table border=\"1\" class=\"dataframe\">\n",
       "  <thead>\n",
       "    <tr style=\"text-align: right;\">\n",
       "      <th></th>\n",
       "      <th>PassengerId</th>\n",
       "      <th>Survived</th>\n",
       "      <th>Pclass</th>\n",
       "      <th>Name</th>\n",
       "      <th>Sex</th>\n",
       "      <th>Age</th>\n",
       "      <th>SibSp</th>\n",
       "      <th>Parch</th>\n",
       "      <th>Ticket</th>\n",
       "      <th>Fare</th>\n",
       "      <th>Cabin</th>\n",
       "      <th>Embarked</th>\n",
       "    </tr>\n",
       "  </thead>\n",
       "  <tbody>\n",
       "    <tr>\n",
       "      <th>0</th>\n",
       "      <td>1</td>\n",
       "      <td>0</td>\n",
       "      <td>3</td>\n",
       "      <td>Braund, Mr. Owen Harris</td>\n",
       "      <td>male</td>\n",
       "      <td>22.0</td>\n",
       "      <td>1</td>\n",
       "      <td>0</td>\n",
       "      <td>A/5 21171</td>\n",
       "      <td>7.2500</td>\n",
       "      <td>NaN</td>\n",
       "      <td>S</td>\n",
       "    </tr>\n",
       "    <tr>\n",
       "      <th>1</th>\n",
       "      <td>2</td>\n",
       "      <td>1</td>\n",
       "      <td>1</td>\n",
       "      <td>Cumings, Mrs. John Bradley (Florence Briggs Th...</td>\n",
       "      <td>female</td>\n",
       "      <td>38.0</td>\n",
       "      <td>1</td>\n",
       "      <td>0</td>\n",
       "      <td>PC 17599</td>\n",
       "      <td>71.2833</td>\n",
       "      <td>C85</td>\n",
       "      <td>C</td>\n",
       "    </tr>\n",
       "    <tr>\n",
       "      <th>2</th>\n",
       "      <td>3</td>\n",
       "      <td>1</td>\n",
       "      <td>3</td>\n",
       "      <td>Heikkinen, Miss. Laina</td>\n",
       "      <td>female</td>\n",
       "      <td>26.0</td>\n",
       "      <td>0</td>\n",
       "      <td>0</td>\n",
       "      <td>STON/O2. 3101282</td>\n",
       "      <td>7.9250</td>\n",
       "      <td>NaN</td>\n",
       "      <td>S</td>\n",
       "    </tr>\n",
       "    <tr>\n",
       "      <th>3</th>\n",
       "      <td>4</td>\n",
       "      <td>1</td>\n",
       "      <td>1</td>\n",
       "      <td>Futrelle, Mrs. Jacques Heath (Lily May Peel)</td>\n",
       "      <td>female</td>\n",
       "      <td>35.0</td>\n",
       "      <td>1</td>\n",
       "      <td>0</td>\n",
       "      <td>113803</td>\n",
       "      <td>53.1000</td>\n",
       "      <td>C123</td>\n",
       "      <td>S</td>\n",
       "    </tr>\n",
       "    <tr>\n",
       "      <th>4</th>\n",
       "      <td>5</td>\n",
       "      <td>0</td>\n",
       "      <td>3</td>\n",
       "      <td>Allen, Mr. William Henry</td>\n",
       "      <td>male</td>\n",
       "      <td>35.0</td>\n",
       "      <td>0</td>\n",
       "      <td>0</td>\n",
       "      <td>373450</td>\n",
       "      <td>8.0500</td>\n",
       "      <td>NaN</td>\n",
       "      <td>S</td>\n",
       "    </tr>\n",
       "  </tbody>\n",
       "</table>\n",
       "</div>"
      ],
      "text/plain": [
       "   PassengerId  Survived  Pclass  \\\n",
       "0            1         0       3   \n",
       "1            2         1       1   \n",
       "2            3         1       3   \n",
       "3            4         1       1   \n",
       "4            5         0       3   \n",
       "\n",
       "                                                Name     Sex   Age  SibSp  \\\n",
       "0                            Braund, Mr. Owen Harris    male  22.0      1   \n",
       "1  Cumings, Mrs. John Bradley (Florence Briggs Th...  female  38.0      1   \n",
       "2                             Heikkinen, Miss. Laina  female  26.0      0   \n",
       "3       Futrelle, Mrs. Jacques Heath (Lily May Peel)  female  35.0      1   \n",
       "4                           Allen, Mr. William Henry    male  35.0      0   \n",
       "\n",
       "   Parch            Ticket     Fare Cabin Embarked  \n",
       "0      0         A/5 21171   7.2500   NaN        S  \n",
       "1      0          PC 17599  71.2833   C85        C  \n",
       "2      0  STON/O2. 3101282   7.9250   NaN        S  \n",
       "3      0            113803  53.1000  C123        S  \n",
       "4      0            373450   8.0500   NaN        S  "
      ]
     },
     "execution_count": 6,
     "metadata": {},
     "output_type": "execute_result"
    }
   ],
   "source": [
    "train.head()"
   ]
  },
  {
   "cell_type": "code",
   "execution_count": 7,
   "id": "2905830d",
   "metadata": {
    "ExecuteTime": {
     "end_time": "2021-07-17T03:50:09.907882Z",
     "start_time": "2021-07-17T03:50:09.901011Z"
    }
   },
   "outputs": [
    {
     "data": {
      "text/html": [
       "<div>\n",
       "<style scoped>\n",
       "    .dataframe tbody tr th:only-of-type {\n",
       "        vertical-align: middle;\n",
       "    }\n",
       "\n",
       "    .dataframe tbody tr th {\n",
       "        vertical-align: top;\n",
       "    }\n",
       "\n",
       "    .dataframe thead th {\n",
       "        text-align: right;\n",
       "    }\n",
       "</style>\n",
       "<table border=\"1\" class=\"dataframe\">\n",
       "  <thead>\n",
       "    <tr style=\"text-align: right;\">\n",
       "      <th></th>\n",
       "      <th>PassengerId</th>\n",
       "      <th>Pclass</th>\n",
       "      <th>Name</th>\n",
       "      <th>Sex</th>\n",
       "      <th>Age</th>\n",
       "      <th>SibSp</th>\n",
       "      <th>Parch</th>\n",
       "      <th>Ticket</th>\n",
       "      <th>Fare</th>\n",
       "      <th>Cabin</th>\n",
       "      <th>Embarked</th>\n",
       "    </tr>\n",
       "  </thead>\n",
       "  <tbody>\n",
       "    <tr>\n",
       "      <th>0</th>\n",
       "      <td>892</td>\n",
       "      <td>3</td>\n",
       "      <td>Kelly, Mr. James</td>\n",
       "      <td>male</td>\n",
       "      <td>34.5</td>\n",
       "      <td>0</td>\n",
       "      <td>0</td>\n",
       "      <td>330911</td>\n",
       "      <td>7.8292</td>\n",
       "      <td>NaN</td>\n",
       "      <td>Q</td>\n",
       "    </tr>\n",
       "    <tr>\n",
       "      <th>1</th>\n",
       "      <td>893</td>\n",
       "      <td>3</td>\n",
       "      <td>Wilkes, Mrs. James (Ellen Needs)</td>\n",
       "      <td>female</td>\n",
       "      <td>47.0</td>\n",
       "      <td>1</td>\n",
       "      <td>0</td>\n",
       "      <td>363272</td>\n",
       "      <td>7.0000</td>\n",
       "      <td>NaN</td>\n",
       "      <td>S</td>\n",
       "    </tr>\n",
       "    <tr>\n",
       "      <th>2</th>\n",
       "      <td>894</td>\n",
       "      <td>2</td>\n",
       "      <td>Myles, Mr. Thomas Francis</td>\n",
       "      <td>male</td>\n",
       "      <td>62.0</td>\n",
       "      <td>0</td>\n",
       "      <td>0</td>\n",
       "      <td>240276</td>\n",
       "      <td>9.6875</td>\n",
       "      <td>NaN</td>\n",
       "      <td>Q</td>\n",
       "    </tr>\n",
       "    <tr>\n",
       "      <th>3</th>\n",
       "      <td>895</td>\n",
       "      <td>3</td>\n",
       "      <td>Wirz, Mr. Albert</td>\n",
       "      <td>male</td>\n",
       "      <td>27.0</td>\n",
       "      <td>0</td>\n",
       "      <td>0</td>\n",
       "      <td>315154</td>\n",
       "      <td>8.6625</td>\n",
       "      <td>NaN</td>\n",
       "      <td>S</td>\n",
       "    </tr>\n",
       "    <tr>\n",
       "      <th>4</th>\n",
       "      <td>896</td>\n",
       "      <td>3</td>\n",
       "      <td>Hirvonen, Mrs. Alexander (Helga E Lindqvist)</td>\n",
       "      <td>female</td>\n",
       "      <td>22.0</td>\n",
       "      <td>1</td>\n",
       "      <td>1</td>\n",
       "      <td>3101298</td>\n",
       "      <td>12.2875</td>\n",
       "      <td>NaN</td>\n",
       "      <td>S</td>\n",
       "    </tr>\n",
       "  </tbody>\n",
       "</table>\n",
       "</div>"
      ],
      "text/plain": [
       "   PassengerId  Pclass                                          Name     Sex  \\\n",
       "0          892       3                              Kelly, Mr. James    male   \n",
       "1          893       3              Wilkes, Mrs. James (Ellen Needs)  female   \n",
       "2          894       2                     Myles, Mr. Thomas Francis    male   \n",
       "3          895       3                              Wirz, Mr. Albert    male   \n",
       "4          896       3  Hirvonen, Mrs. Alexander (Helga E Lindqvist)  female   \n",
       "\n",
       "    Age  SibSp  Parch   Ticket     Fare Cabin Embarked  \n",
       "0  34.5      0      0   330911   7.8292   NaN        Q  \n",
       "1  47.0      1      0   363272   7.0000   NaN        S  \n",
       "2  62.0      0      0   240276   9.6875   NaN        Q  \n",
       "3  27.0      0      0   315154   8.6625   NaN        S  \n",
       "4  22.0      1      1  3101298  12.2875   NaN        S  "
      ]
     },
     "execution_count": 7,
     "metadata": {},
     "output_type": "execute_result"
    }
   ],
   "source": [
    "test.head()"
   ]
  },
  {
   "cell_type": "markdown",
   "id": "e0dc8798",
   "metadata": {},
   "source": [
    "# 欠損値がどれくらいあるか見る"
   ]
  },
  {
   "cell_type": "code",
   "execution_count": 8,
   "id": "0f29774e",
   "metadata": {
    "ExecuteTime": {
     "end_time": "2021-07-17T03:50:09.912400Z",
     "start_time": "2021-07-17T03:50:09.909151Z"
    }
   },
   "outputs": [
    {
     "data": {
      "text/plain": [
       "PassengerId      0\n",
       "Survived         0\n",
       "Pclass           0\n",
       "Name             0\n",
       "Sex              0\n",
       "Age            177\n",
       "SibSp            0\n",
       "Parch            0\n",
       "Ticket           0\n",
       "Fare             0\n",
       "Cabin          687\n",
       "Embarked         2\n",
       "dtype: int64"
      ]
     },
     "execution_count": 8,
     "metadata": {},
     "output_type": "execute_result"
    }
   ],
   "source": [
    "train.isnull().sum()"
   ]
  },
  {
   "cell_type": "code",
   "execution_count": 9,
   "id": "042e37ef",
   "metadata": {
    "ExecuteTime": {
     "end_time": "2021-07-17T03:50:09.917216Z",
     "start_time": "2021-07-17T03:50:09.913335Z"
    }
   },
   "outputs": [
    {
     "data": {
      "text/plain": [
       "PassengerId     0.000000\n",
       "Survived        0.000000\n",
       "Pclass          0.000000\n",
       "Name            0.000000\n",
       "Sex             0.000000\n",
       "Age            19.865320\n",
       "SibSp           0.000000\n",
       "Parch           0.000000\n",
       "Ticket          0.000000\n",
       "Fare            0.000000\n",
       "Cabin          77.104377\n",
       "Embarked        0.224467\n",
       "dtype: float64"
      ]
     },
     "execution_count": 9,
     "metadata": {},
     "output_type": "execute_result"
    }
   ],
   "source": [
    "train.isnull().sum() / train.shape[0] * 100"
   ]
  },
  {
   "cell_type": "code",
   "execution_count": 10,
   "id": "d240f6d2",
   "metadata": {
    "ExecuteTime": {
     "end_time": "2021-07-17T03:50:09.921491Z",
     "start_time": "2021-07-17T03:50:09.917943Z"
    }
   },
   "outputs": [
    {
     "data": {
      "text/plain": [
       "PassengerId     0.000000\n",
       "Pclass          0.000000\n",
       "Name            0.000000\n",
       "Sex             0.000000\n",
       "Age            20.574163\n",
       "SibSp           0.000000\n",
       "Parch           0.000000\n",
       "Ticket          0.000000\n",
       "Fare            0.239234\n",
       "Cabin          78.229665\n",
       "Embarked        0.000000\n",
       "dtype: float64"
      ]
     },
     "execution_count": 10,
     "metadata": {},
     "output_type": "execute_result"
    }
   ],
   "source": [
    "test.isnull().sum() / test.shape[0] * 100"
   ]
  },
  {
   "cell_type": "markdown",
   "id": "94f05024",
   "metadata": {},
   "source": [
    "## 欠損値をどうするか\n",
    "- 何もしない\n",
    "- なんか埋める（平均、中央値、最頻値、予測モデルを作る）\n",
    "- 欠損してる行、列を消す"
   ]
  },
  {
   "cell_type": "code",
   "execution_count": 11,
   "id": "4bd42cfe",
   "metadata": {
    "ExecuteTime": {
     "end_time": "2021-07-17T03:50:09.927912Z",
     "start_time": "2021-07-17T03:50:09.922346Z"
    }
   },
   "outputs": [
    {
     "name": "stdout",
     "output_type": "stream",
     "text": [
      "(1309, 13)\n"
     ]
    }
   ],
   "source": [
    "# 年齢の欠損値を平均で埋める\n",
    "# train, testの平均を出す\n",
    "\n",
    "# trainとtestを縦結合\n",
    "# あとで分けやすいようにフラグつけておく\n",
    "train['test_flg'] = 0\n",
    "test['test_flg'] = 1\n",
    "\n",
    "# indexを振り直す(元のindexはいらないのでdrop=True で消す)\n",
    "data = pd.concat([train, test]).reset_index(drop=True)\n",
    "print(data.shape)"
   ]
  },
  {
   "cell_type": "code",
   "execution_count": 12,
   "id": "273879c3",
   "metadata": {
    "ExecuteTime": {
     "end_time": "2021-07-17T03:50:09.930826Z",
     "start_time": "2021-07-17T03:50:09.928694Z"
    }
   },
   "outputs": [
    {
     "data": {
      "text/plain": [
       "Index(['PassengerId', 'Survived', 'Pclass', 'Name', 'Sex', 'Age', 'SibSp',\n",
       "       'Parch', 'Ticket', 'Fare', 'Cabin', 'Embarked', 'test_flg'],\n",
       "      dtype='object')"
      ]
     },
     "execution_count": 12,
     "metadata": {},
     "output_type": "execute_result"
    }
   ],
   "source": [
    "data.columns"
   ]
  },
  {
   "cell_type": "code",
   "execution_count": 13,
   "id": "dcf4db21",
   "metadata": {
    "ExecuteTime": {
     "end_time": "2021-07-17T03:50:09.934676Z",
     "start_time": "2021-07-17T03:50:09.931583Z"
    }
   },
   "outputs": [],
   "source": [
    "# 平均で埋める\n",
    "age_mean = data['Age'].mean()\n",
    "data['Age'] = data['Age'].fillna(age_mean)\n",
    "\n",
    "\n",
    "# まとめて処理する\n",
    "COLS = ['Fare', 'Age']\n",
    "\n",
    "for col in COLS:\n",
    "    age_mean = data[col].mean()\n",
    "    data[col] = data[col].fillna(age_mean)"
   ]
  },
  {
   "cell_type": "code",
   "execution_count": 14,
   "id": "c8a1ba2b",
   "metadata": {
    "ExecuteTime": {
     "end_time": "2021-07-17T03:50:09.936795Z",
     "start_time": "2021-07-17T03:50:09.935471Z"
    }
   },
   "outputs": [],
   "source": [
    "# docstring -> shift + tab (jupyter notebook)"
   ]
  },
  {
   "cell_type": "code",
   "execution_count": 15,
   "id": "b6e29a8b",
   "metadata": {
    "ExecuteTime": {
     "end_time": "2021-07-17T03:50:09.939089Z",
     "start_time": "2021-07-17T03:50:09.937596Z"
    }
   },
   "outputs": [],
   "source": [
    "# fear of the dark"
   ]
  },
  {
   "cell_type": "code",
   "execution_count": 16,
   "id": "1da09bb8",
   "metadata": {
    "ExecuteTime": {
     "end_time": "2021-07-17T03:50:09.942926Z",
     "start_time": "2021-07-17T03:50:09.939970Z"
    }
   },
   "outputs": [
    {
     "data": {
      "text/plain": [
       "S    914\n",
       "C    270\n",
       "Q    123\n",
       "Name: Embarked, dtype: int64"
      ]
     },
     "execution_count": 16,
     "metadata": {},
     "output_type": "execute_result"
    }
   ],
   "source": [
    "data['Embarked'].value_counts()"
   ]
  },
  {
   "cell_type": "code",
   "execution_count": 17,
   "id": "848b8480",
   "metadata": {
    "ExecuteTime": {
     "end_time": "2021-07-17T03:50:09.945443Z",
     "start_time": "2021-07-17T03:50:09.943739Z"
    }
   },
   "outputs": [],
   "source": [
    "# 一番多い要素を入れる\n",
    "data['Embarked'] = data['Embarked'].fillna('S')"
   ]
  },
  {
   "cell_type": "code",
   "execution_count": 18,
   "id": "7b4b4a83",
   "metadata": {
    "ExecuteTime": {
     "end_time": "2021-07-17T03:50:09.953687Z",
     "start_time": "2021-07-17T03:50:09.946245Z"
    }
   },
   "outputs": [
    {
     "name": "stdout",
     "output_type": "stream",
     "text": [
      "<class 'pandas.core.frame.DataFrame'>\n",
      "RangeIndex: 1309 entries, 0 to 1308\n",
      "Data columns (total 13 columns):\n",
      " #   Column       Non-Null Count  Dtype  \n",
      "---  ------       --------------  -----  \n",
      " 0   PassengerId  1309 non-null   int64  \n",
      " 1   Survived     891 non-null    float64\n",
      " 2   Pclass       1309 non-null   int64  \n",
      " 3   Name         1309 non-null   object \n",
      " 4   Sex          1309 non-null   object \n",
      " 5   Age          1309 non-null   float64\n",
      " 6   SibSp        1309 non-null   int64  \n",
      " 7   Parch        1309 non-null   int64  \n",
      " 8   Ticket       1309 non-null   object \n",
      " 9   Fare         1309 non-null   float64\n",
      " 10  Cabin        295 non-null    object \n",
      " 11  Embarked     1309 non-null   object \n",
      " 12  test_flg     1309 non-null   int64  \n",
      "dtypes: float64(3), int64(5), object(5)\n",
      "memory usage: 133.1+ KB\n"
     ]
    }
   ],
   "source": [
    "data.info()"
   ]
  },
  {
   "cell_type": "code",
   "execution_count": 19,
   "id": "66bc7df9",
   "metadata": {
    "ExecuteTime": {
     "end_time": "2021-07-17T03:50:09.957941Z",
     "start_time": "2021-07-17T03:50:09.954655Z"
    }
   },
   "outputs": [],
   "source": [
    "# フラグを見てtrain, testに分ける\n",
    "constraint1 = (data['test_flg']==0)\n",
    "constraint2 = (data['test_flg']==1)\n",
    "\n",
    "train = data[constraint1].copy()\n",
    "test = data[constraint2].copy()"
   ]
  },
  {
   "cell_type": "code",
   "execution_count": 20,
   "id": "0d014ad4",
   "metadata": {
    "ExecuteTime": {
     "end_time": "2021-07-17T03:50:09.960639Z",
     "start_time": "2021-07-17T03:50:09.958750Z"
    }
   },
   "outputs": [
    {
     "name": "stdout",
     "output_type": "stream",
     "text": [
      "(891, 13)\n",
      "(418, 13)\n"
     ]
    }
   ],
   "source": [
    "print(train.shape)\n",
    "print(test.shape)"
   ]
  },
  {
   "cell_type": "code",
   "execution_count": 21,
   "id": "c7c935f2",
   "metadata": {
    "ExecuteTime": {
     "end_time": "2021-07-17T03:50:09.964558Z",
     "start_time": "2021-07-17T03:50:09.961696Z"
    }
   },
   "outputs": [],
   "source": [
    "# いらない列を消す\n",
    "# Cabinは欠損値が多いので使わない\n",
    "DROP_COLS_TRAIN = ['test_flg', 'Cabin']\n",
    "DROP_COLS_TEST = ['test_flg', 'Survived', 'Cabin']\n",
    "\n",
    "train = train.drop(DROP_COLS_TRAIN, axis=1)\n",
    "test = test.drop(DROP_COLS_TEST, axis=1)"
   ]
  },
  {
   "cell_type": "markdown",
   "id": "3a256d1c",
   "metadata": {},
   "source": [
    "# ラベルエンコーディング\n",
    "ここで使うロジスティック回帰モデルは数値しか受け付けないので、  \n",
    "データが文字で入ってる列を数値に置き換える"
   ]
  },
  {
   "cell_type": "code",
   "execution_count": 22,
   "id": "3d1fdb20",
   "metadata": {
    "ExecuteTime": {
     "end_time": "2021-07-17T03:50:09.967825Z",
     "start_time": "2021-07-17T03:50:09.965428Z"
    }
   },
   "outputs": [
    {
     "data": {
      "text/plain": [
       "array(['male', 'female'], dtype=object)"
      ]
     },
     "execution_count": 22,
     "metadata": {},
     "output_type": "execute_result"
    }
   ],
   "source": [
    "train['Sex'].unique()"
   ]
  },
  {
   "cell_type": "code",
   "execution_count": 23,
   "id": "3308afe7",
   "metadata": {
    "ExecuteTime": {
     "end_time": "2021-07-17T03:50:09.973755Z",
     "start_time": "2021-07-17T03:50:09.969340Z"
    }
   },
   "outputs": [
    {
     "name": "stdout",
     "output_type": "stream",
     "text": [
      "[0 1]\n",
      "[0 1 2]\n"
     ]
    }
   ],
   "source": [
    "SEX_DICT = {'male': 0, 'female': 1}\n",
    "\n",
    "train['Sex'] = train['Sex'].map(SEX_DICT)\n",
    "print(train['Sex'].unique())\n",
    "\n",
    "# TODO: Embarkedはone hot encordingする\n",
    "emb_uni = train['Embarked'].unique()\n",
    "EMBARKED_DICT = dict(zip(emb_uni, range(len(emb_uni))))\n",
    "\n",
    "train['Embarked'] = train['Embarked'].map(EMBARKED_DICT)\n",
    "print(train['Embarked'].unique())"
   ]
  },
  {
   "cell_type": "code",
   "execution_count": 24,
   "id": "77263589",
   "metadata": {
    "ExecuteTime": {
     "end_time": "2021-07-17T03:50:09.978966Z",
     "start_time": "2021-07-17T03:50:09.974733Z"
    }
   },
   "outputs": [
    {
     "name": "stdout",
     "output_type": "stream",
     "text": [
      "[0 1]\n",
      "[0 1 2]\n"
     ]
    }
   ],
   "source": [
    "SEX_DICT = {'male': 0, 'female': 1}\n",
    "\n",
    "test['Sex'] = test['Sex'].map(SEX_DICT)\n",
    "print(test['Sex'].unique())\n",
    "\n",
    "# TODO: Embarkedはone hot encordingする\n",
    "\n",
    "emb_uni = test['Embarked'].unique()\n",
    "EMBARKED_DICT = dict(zip(emb_uni, range(len(emb_uni))))\n",
    "\n",
    "test['Embarked'] = test['Embarked'].map(EMBARKED_DICT)\n",
    "print(test['Embarked'].unique())"
   ]
  },
  {
   "cell_type": "code",
   "execution_count": 25,
   "id": "119028cd",
   "metadata": {
    "ExecuteTime": {
     "end_time": "2021-07-17T03:50:09.981651Z",
     "start_time": "2021-07-17T03:50:09.979809Z"
    }
   },
   "outputs": [
    {
     "name": "stdout",
     "output_type": "stream",
     "text": [
      "2.0\n",
      "4.0\n"
     ]
    }
   ],
   "source": [
    "# logを思い出す\n",
    "import numpy as np\n",
    "\n",
    "print(np.log10(100))\n",
    "print(np.log2(16))"
   ]
  },
  {
   "cell_type": "markdown",
   "id": "bb5dd48f",
   "metadata": {},
   "source": [
    "# 予測する"
   ]
  },
  {
   "cell_type": "code",
   "execution_count": 26,
   "id": "4dd91df3",
   "metadata": {
    "ExecuteTime": {
     "end_time": "2021-07-17T03:50:09.985418Z",
     "start_time": "2021-07-17T03:50:09.982466Z"
    }
   },
   "outputs": [],
   "source": [
    "DROP_COL = ['Name', 'Ticket', 'Survived']\n",
    "\n",
    "x_train = train.drop(DROP_COL, axis=1)\n",
    "y_train = train['Survived']\n",
    "x_test = test.drop(['Name', 'Ticket'], axis=1)"
   ]
  },
  {
   "cell_type": "markdown",
   "id": "97510857",
   "metadata": {},
   "source": [
    "## ロジスティック回帰とは的な\n",
    "$$\n",
    "ln\\frac{p}{1-p} = a_1x_1 + a_2x_2 + ... + a_nx_n + b\n",
    "$$\n",
    "\n",
    "x: 入力（Age, Sexとか）  \n",
    "a, b: 未知のパラメータ（学習用データで計算する）  \n",
    "p: 確率（ここでは生き残る確率）"
   ]
  },
  {
   "cell_type": "code",
   "execution_count": 27,
   "id": "23256ca2",
   "metadata": {
    "ExecuteTime": {
     "end_time": "2021-07-17T03:50:10.283314Z",
     "start_time": "2021-07-17T03:50:09.986281Z"
    }
   },
   "outputs": [
    {
     "name": "stderr",
     "output_type": "stream",
     "text": [
      "/home/kouya-takahashi/.local/lib/python3.8/site-packages/sklearn/linear_model/_logistic.py:763: ConvergenceWarning: lbfgs failed to converge (status=1):\n",
      "STOP: TOTAL NO. of ITERATIONS REACHED LIMIT.\n",
      "\n",
      "Increase the number of iterations (max_iter) or scale the data as shown in:\n",
      "    https://scikit-learn.org/stable/modules/preprocessing.html\n",
      "Please also refer to the documentation for alternative solver options:\n",
      "    https://scikit-learn.org/stable/modules/linear_model.html#logistic-regression\n",
      "  n_iter_i = _check_optimize_result(\n"
     ]
    },
    {
     "data": {
      "text/plain": [
       "LogisticRegression()"
      ]
     },
     "execution_count": 27,
     "metadata": {},
     "output_type": "execute_result"
    }
   ],
   "source": [
    "# ロジスティック回帰\n",
    "\n",
    "from sklearn.linear_model import LogisticRegression\n",
    "\n",
    "logreg = LogisticRegression()\n",
    "logreg.fit(x_train, y_train)"
   ]
  },
  {
   "cell_type": "code",
   "execution_count": 28,
   "id": "f8342800",
   "metadata": {
    "ExecuteTime": {
     "end_time": "2021-07-17T03:50:10.286654Z",
     "start_time": "2021-07-17T03:50:10.284449Z"
    }
   },
   "outputs": [
    {
     "name": "stdout",
     "output_type": "stream",
     "text": [
      "Index(['PassengerId', 'Pclass', 'Sex', 'Age', 'SibSp', 'Parch', 'Fare',\n",
      "       'Embarked'],\n",
      "      dtype='object')\n"
     ]
    }
   ],
   "source": [
    "print(x_train.columns)"
   ]
  },
  {
   "cell_type": "code",
   "execution_count": 29,
   "id": "0bcbafb9",
   "metadata": {
    "ExecuteTime": {
     "end_time": "2021-07-17T03:50:10.290917Z",
     "start_time": "2021-07-17T03:50:10.287832Z"
    }
   },
   "outputs": [
    {
     "name": "stdout",
     "output_type": "stream",
     "text": [
      "[0. 1.]\n",
      "[[ 4.25731207e-04 -7.02620399e-01  2.69448452e+00 -2.54636715e-02\n",
      "  -3.12453266e-01 -1.86075398e-01  7.20870339e-03  2.31358601e-01]]\n",
      "[0.51120142]\n",
      "[100]\n"
     ]
    }
   ],
   "source": [
    "# 分類\n",
    "print(logreg.classes_)\n",
    "# 係数\n",
    "print(logreg.coef_)\n",
    "# 切片\n",
    "print(logreg.intercept_)\n",
    "# 学習した回数？的な\n",
    "print(logreg.n_iter_)"
   ]
  },
  {
   "cell_type": "code",
   "execution_count": 30,
   "id": "6451bdfc",
   "metadata": {
    "ExecuteTime": {
     "end_time": "2021-07-17T03:50:10.296486Z",
     "start_time": "2021-07-17T03:50:10.291825Z"
    }
   },
   "outputs": [],
   "source": [
    "# 0, 1予測\n",
    "y_pred = logreg.predict(x_test)\n",
    "# 確率予測\n",
    "y_pred_proba = logreg.predict_proba(x_test)"
   ]
  },
  {
   "cell_type": "code",
   "execution_count": 31,
   "id": "b64497f1",
   "metadata": {
    "ExecuteTime": {
     "end_time": "2021-07-17T03:50:10.301831Z",
     "start_time": "2021-07-17T03:50:10.297498Z"
    }
   },
   "outputs": [
    {
     "data": {
      "text/plain": [
       "array([0., 1., 0., 0., 1., 0., 1., 0., 1., 0., 0., 0., 1., 0., 1., 1., 0.,\n",
       "       0., 1., 1., 0., 0., 1., 1., 1., 0., 1., 0., 0., 0., 0., 0., 1., 1.,\n",
       "       1., 0., 1., 1., 0., 0., 0., 0., 0., 1., 1., 0., 0., 0., 1., 1., 0.,\n",
       "       0., 1., 1., 0., 0., 0., 0., 0., 1., 0., 0., 0., 1., 1., 1., 1., 0.,\n",
       "       1., 1., 1., 0., 1., 1., 1., 1., 0., 1., 0., 1., 0., 1., 0., 0., 0.,\n",
       "       0., 1., 1., 1., 0., 1., 0., 1., 0., 1., 0., 1., 0., 1., 0., 1., 0.,\n",
       "       0., 0., 1., 0., 0., 0., 0., 0., 0., 1., 1., 1., 1., 0., 0., 1., 1.,\n",
       "       1., 1., 0., 1., 0., 0., 1., 0., 1., 0., 0., 0., 0., 1., 0., 0., 0.,\n",
       "       0., 0., 1., 0., 0., 1., 1., 0., 0., 0., 1., 0., 0., 0., 1., 0., 0.,\n",
       "       1., 0., 0., 1., 1., 0., 1., 1., 0., 1., 0., 0., 1., 0., 0., 1., 1.,\n",
       "       0., 0., 0., 0., 0., 1., 1., 0., 1., 1., 0., 0., 1., 0., 1., 0., 1.,\n",
       "       0., 0., 0., 0., 0., 0., 0., 0., 0., 1., 1., 0., 1., 1., 0., 1., 1.,\n",
       "       0., 1., 1., 0., 1., 0., 0., 0., 0., 1., 0., 0., 1., 0., 1., 0., 1.,\n",
       "       0., 1., 0., 1., 1., 0., 1., 0., 0., 0., 1., 0., 0., 0., 0., 0., 0.,\n",
       "       1., 1., 1., 1., 1., 0., 0., 0., 1., 0., 1., 1., 1., 0., 1., 0., 0.,\n",
       "       0., 0., 0., 1., 0., 0., 0., 1., 1., 0., 0., 0., 0., 1., 0., 1., 0.,\n",
       "       1., 1., 0., 1., 0., 0., 0., 0., 1., 0., 1., 1., 1., 0., 0., 1., 0.,\n",
       "       0., 1., 1., 0., 0., 0., 0., 1., 0., 1., 0., 0., 0., 0., 0., 1., 1.,\n",
       "       1., 0., 0., 1., 0., 0., 0., 1., 1., 1., 1., 0., 0., 0., 0., 0., 0.,\n",
       "       0., 1., 0., 1., 1., 0., 0., 1., 1., 0., 1., 0., 0., 0., 0., 0., 0.,\n",
       "       0., 0., 0., 1., 0., 1., 0., 1., 0., 1., 1., 0., 0., 0., 1., 0., 1.,\n",
       "       0., 0., 1., 0., 1., 1., 0., 1., 0., 0., 1., 1., 0., 0., 1., 0., 0.,\n",
       "       1., 1., 1., 0., 0., 0., 0., 0., 1., 1., 0., 1., 0., 0., 0., 0., 1.,\n",
       "       1., 0., 0., 0., 1., 0., 1., 0., 0., 1., 0., 1., 1., 0., 0., 0., 1.,\n",
       "       1., 1., 1., 1., 1., 0., 1., 0., 0., 0.])"
      ]
     },
     "execution_count": 31,
     "metadata": {},
     "output_type": "execute_result"
    }
   ],
   "source": [
    "y_pred"
   ]
  },
  {
   "cell_type": "code",
   "execution_count": 32,
   "id": "32e12db6",
   "metadata": {
    "ExecuteTime": {
     "end_time": "2021-07-17T03:50:10.310833Z",
     "start_time": "2021-07-17T03:50:10.302957Z"
    }
   },
   "outputs": [
    {
     "data": {
      "text/plain": [
       "array([[0.88482792, 0.11517208],\n",
       "       [0.43768163, 0.56231837],\n",
       "       [0.88312368, 0.11687632],\n",
       "       [0.8333205 , 0.1666795 ],\n",
       "       [0.32289788, 0.67710212],\n",
       "       [0.78132616, 0.21867384],\n",
       "       [0.31621572, 0.68378428],\n",
       "       [0.77407753, 0.22592247],\n",
       "       [0.17690379, 0.82309621],\n",
       "       [0.87731767, 0.12268233],\n",
       "       [0.84359934, 0.15640066],\n",
       "       [0.63634325, 0.36365675],\n",
       "       [0.05656144, 0.94343856],\n",
       "       [0.88149167, 0.11850833],\n",
       "       [0.11386223, 0.88613777],\n",
       "       [0.12724393, 0.87275607],\n",
       "       [0.78745901, 0.21254099],\n",
       "       [0.7737498 , 0.2262502 ],\n",
       "       [0.31566732, 0.68433268],\n",
       "       [0.29846864, 0.70153136],\n",
       "       [0.65139872, 0.34860128],\n",
       "       [0.79721849, 0.20278151],\n",
       "       [0.06971636, 0.93028364],\n",
       "       [0.40552546, 0.59447454],\n",
       "       [0.04092609, 0.95907391],\n",
       "       [0.9210003 , 0.0789997 ],\n",
       "       [0.04491118, 0.95508882],\n",
       "       [0.77963581, 0.22036419],\n",
       "       [0.59689226, 0.40310774],\n",
       "       [0.8777566 , 0.1222434 ],\n",
       "       [0.841358  , 0.158642  ],\n",
       "       [0.78222694, 0.21777306],\n",
       "       [0.41435934, 0.58564066],\n",
       "       [0.39018342, 0.60981658],\n",
       "       [0.49863387, 0.50136613],\n",
       "       [0.76101541, 0.23898459],\n",
       "       [0.26475313, 0.73524687],\n",
       "       [0.22228567, 0.77771433],\n",
       "       [0.82309813, 0.17690187],\n",
       "       [0.78960854, 0.21039146],\n",
       "       [0.86051844, 0.13948156],\n",
       "       [0.53303818, 0.46696182],\n",
       "       [0.87600064, 0.12399936],\n",
       "       [0.14683225, 0.85316775],\n",
       "       [0.11370548, 0.88629452],\n",
       "       [0.82431409, 0.17568591],\n",
       "       [0.5649147 , 0.4350853 ],\n",
       "       [0.87010802, 0.12989198],\n",
       "       [0.08408356, 0.91591644],\n",
       "       [0.36457267, 0.63542733],\n",
       "       [0.51251757, 0.48748243],\n",
       "       [0.64771406, 0.35228594],\n",
       "       [0.21767982, 0.78232018],\n",
       "       [0.04697007, 0.95302993],\n",
       "       [0.66310412, 0.33689588],\n",
       "       [0.93547876, 0.06452124],\n",
       "       [0.85766352, 0.14233648],\n",
       "       [0.82386087, 0.17613913],\n",
       "       [0.87193011, 0.12806989],\n",
       "       [0.01280105, 0.98719895],\n",
       "       [0.79182626, 0.20817374],\n",
       "       [0.72601134, 0.27398866],\n",
       "       [0.79602485, 0.20397515],\n",
       "       [0.26896413, 0.73103587],\n",
       "       [0.22415834, 0.77584166],\n",
       "       [0.1382707 , 0.8617293 ],\n",
       "       [0.24896724, 0.75103276],\n",
       "       [0.60895642, 0.39104358],\n",
       "       [0.47593243, 0.52406757],\n",
       "       [0.07908346, 0.92091654],\n",
       "       [0.27845918, 0.72154082],\n",
       "       [0.80739019, 0.19260981],\n",
       "       [0.25764006, 0.74235994],\n",
       "       [0.46101797, 0.53898203],\n",
       "       [0.01780254, 0.98219746],\n",
       "       [0.20100069, 0.79899931],\n",
       "       [0.83970662, 0.16029338],\n",
       "       [0.21302065, 0.78697935],\n",
       "       [0.7150255 , 0.2849745 ],\n",
       "       [0.27768999, 0.72231001],\n",
       "       [0.77929111, 0.22070889],\n",
       "       [0.49140152, 0.50859848],\n",
       "       [0.64695742, 0.35304258],\n",
       "       [0.83945495, 0.16054505],\n",
       "       [0.76173518, 0.23826482],\n",
       "       [0.84384818, 0.15615182],\n",
       "       [0.29245932, 0.70754068],\n",
       "       [0.20658111, 0.79341889],\n",
       "       [0.3078851 , 0.6921149 ],\n",
       "       [0.65219334, 0.34780666],\n",
       "       [0.27392513, 0.72607487],\n",
       "       [0.83911301, 0.16088699],\n",
       "       [0.10376508, 0.89623492],\n",
       "       [0.83873007, 0.16126993],\n",
       "       [0.43981727, 0.56018273],\n",
       "       [0.82134676, 0.17865324],\n",
       "       [0.18606862, 0.81393138],\n",
       "       [0.83556194, 0.16443806],\n",
       "       [0.2145014 , 0.7854986 ],\n",
       "       [0.84885807, 0.15114193],\n",
       "       [0.08468113, 0.91531887],\n",
       "       [0.74125004, 0.25874996],\n",
       "       [0.86743862, 0.13256138],\n",
       "       [0.82458222, 0.17541778],\n",
       "       [0.24231721, 0.75768279],\n",
       "       [0.8162964 , 0.1837036 ],\n",
       "       [0.83890988, 0.16109012],\n",
       "       [0.86719366, 0.13280634],\n",
       "       [0.83721459, 0.16278541],\n",
       "       [0.64882734, 0.35117266],\n",
       "       [0.7191581 , 0.2808419 ],\n",
       "       [0.3057578 , 0.6942422 ],\n",
       "       [0.06268539, 0.93731461],\n",
       "       [0.2484101 , 0.7515899 ],\n",
       "       [0.05495148, 0.94504852],\n",
       "       [0.79767639, 0.20232361],\n",
       "       [0.80522598, 0.19477402],\n",
       "       [0.20503145, 0.79496855],\n",
       "       [0.41897326, 0.58102674],\n",
       "       [0.16815716, 0.83184284],\n",
       "       [0.09358588, 0.90641412],\n",
       "       [0.89870004, 0.10129996],\n",
       "       [0.06849154, 0.93150846],\n",
       "       [0.83116462, 0.16883538],\n",
       "       [0.86635791, 0.13364209],\n",
       "       [0.22110229, 0.77889771],\n",
       "       [0.80782049, 0.19217951],\n",
       "       [0.4222711 , 0.5777289 ],\n",
       "       [0.76927039, 0.23072961],\n",
       "       [0.81513496, 0.18486504],\n",
       "       [0.84383071, 0.15616929],\n",
       "       [0.60761675, 0.39238325],\n",
       "       [0.39090042, 0.60909958],\n",
       "       [0.8487074 , 0.1512926 ],\n",
       "       [0.87723687, 0.12276313],\n",
       "       [0.81496267, 0.18503733],\n",
       "       [0.7890145 , 0.2109855 ],\n",
       "       [0.68846347, 0.31153653],\n",
       "       [0.22442692, 0.77557308],\n",
       "       [0.95416273, 0.04583727],\n",
       "       [0.52059527, 0.47940473],\n",
       "       [0.03148105, 0.96851895],\n",
       "       [0.45538785, 0.54461215],\n",
       "       [0.67865672, 0.32134328],\n",
       "       [0.59798733, 0.40201267],\n",
       "       [0.92558682, 0.07441318],\n",
       "       [0.47631112, 0.52368888],\n",
       "       [0.8061425 , 0.1938575 ],\n",
       "       [0.52168447, 0.47831553],\n",
       "       [0.78490909, 0.21509091],\n",
       "       [0.03779254, 0.96220746],\n",
       "       [0.80120933, 0.19879067],\n",
       "       [0.90215243, 0.09784757],\n",
       "       [0.36053213, 0.63946787],\n",
       "       [0.93380822, 0.06619178],\n",
       "       [0.81400747, 0.18599253],\n",
       "       [0.01727813, 0.98272187],\n",
       "       [0.22326679, 0.77673321],\n",
       "       [0.59655367, 0.40344633],\n",
       "       [0.30117256, 0.69882744],\n",
       "       [0.30141737, 0.69858263],\n",
       "       [0.7777357 , 0.2222643 ],\n",
       "       [0.12833217, 0.87166783],\n",
       "       [0.83570022, 0.16429978],\n",
       "       [0.76195105, 0.23804895],\n",
       "       [0.31488725, 0.68511275],\n",
       "       [0.53407837, 0.46592163],\n",
       "       [0.8930285 , 0.1069715 ],\n",
       "       [0.05437172, 0.94562828],\n",
       "       [0.21665086, 0.78334914],\n",
       "       [0.83474443, 0.16525557],\n",
       "       [0.78865324, 0.21134676],\n",
       "       [0.8468674 , 0.1531326 ],\n",
       "       [0.80048193, 0.19951807],\n",
       "       [0.95010187, 0.04989813],\n",
       "       [0.11783513, 0.88216487],\n",
       "       [0.09603039, 0.90396961],\n",
       "       [0.63678193, 0.36321807],\n",
       "       [0.21525133, 0.78474867],\n",
       "       [0.11718326, 0.88281674],\n",
       "       [0.70609515, 0.29390485],\n",
       "       [0.52824818, 0.47175182],\n",
       "       [0.05712767, 0.94287233],\n",
       "       [0.86342283, 0.13657717],\n",
       "       [0.01759955, 0.98240045],\n",
       "       [0.75163957, 0.24836043],\n",
       "       [0.1277153 , 0.8722847 ],\n",
       "       [0.87053485, 0.12946515],\n",
       "       [0.79287154, 0.20712846],\n",
       "       [0.75534011, 0.24465989],\n",
       "       [0.76724708, 0.23275292],\n",
       "       [0.51810475, 0.48189525],\n",
       "       [0.83070658, 0.16929342],\n",
       "       [0.86948098, 0.13051902],\n",
       "       [0.63225755, 0.36774245],\n",
       "       [0.8437256 , 0.1562744 ],\n",
       "       [0.23520838, 0.76479162],\n",
       "       [0.19932696, 0.80067304],\n",
       "       [0.67009324, 0.32990676],\n",
       "       [0.25138236, 0.74861764],\n",
       "       [0.28626891, 0.71373109],\n",
       "       [0.76435852, 0.23564148],\n",
       "       [0.29567842, 0.70432158],\n",
       "       [0.12098157, 0.87901843],\n",
       "       [0.68069765, 0.31930235],\n",
       "       [0.45933845, 0.54066155],\n",
       "       [0.32521304, 0.67478696],\n",
       "       [0.6748577 , 0.3251423 ],\n",
       "       [0.05767008, 0.94232992],\n",
       "       [0.81400465, 0.18599535],\n",
       "       [0.82471242, 0.17528758],\n",
       "       [0.83282492, 0.16717508],\n",
       "       [0.52391081, 0.47608919],\n",
       "       [0.29956095, 0.70043905],\n",
       "       [0.67557146, 0.32442854],\n",
       "       [0.56263924, 0.43736076],\n",
       "       [0.29620189, 0.70379811],\n",
       "       [0.5620306 , 0.4379694 ],\n",
       "       [0.03949546, 0.96050454],\n",
       "       [0.83134185, 0.16865815],\n",
       "       [0.14677626, 0.85322374],\n",
       "       [0.79708423, 0.20291577],\n",
       "       [0.11695789, 0.88304211],\n",
       "       [0.79724285, 0.20275715],\n",
       "       [0.09202364, 0.90797636],\n",
       "       [0.26640256, 0.73359744],\n",
       "       [0.80515031, 0.19484969],\n",
       "       [0.29542039, 0.70457961],\n",
       "       [0.85947176, 0.14052824],\n",
       "       [0.73270987, 0.26729013],\n",
       "       [0.51822593, 0.48177407],\n",
       "       [0.0536986 , 0.9463014 ],\n",
       "       [0.84384812, 0.15615188],\n",
       "       [0.86078159, 0.13921841],\n",
       "       [0.51024975, 0.48975025],\n",
       "       [0.79218669, 0.20781331],\n",
       "       [0.65659351, 0.34340649],\n",
       "       [0.75221907, 0.24778093],\n",
       "       [0.16114701, 0.83885299],\n",
       "       [0.0641782 , 0.9358218 ],\n",
       "       [0.09560513, 0.90439487],\n",
       "       [0.22927627, 0.77072373],\n",
       "       [0.48019683, 0.51980317],\n",
       "       [0.83006967, 0.16993033],\n",
       "       [0.89642457, 0.10357543],\n",
       "       [0.61268353, 0.38731647],\n",
       "       [0.1083731 , 0.8916269 ],\n",
       "       [0.81928235, 0.18071765],\n",
       "       [0.16061438, 0.83938562],\n",
       "       [0.25404373, 0.74595627],\n",
       "       [0.11815701, 0.88184299],\n",
       "       [0.7909787 , 0.2090213 ],\n",
       "       [0.32205081, 0.67794919],\n",
       "       [0.80561197, 0.19438803],\n",
       "       [0.83705811, 0.16294189],\n",
       "       [0.8296919 , 0.1703081 ],\n",
       "       [0.85971639, 0.14028361],\n",
       "       [0.82216556, 0.17783444],\n",
       "       [0.10609183, 0.89390817],\n",
       "       [0.79477857, 0.20522143],\n",
       "       [0.8798811 , 0.1201189 ],\n",
       "       [0.79454647, 0.20545353],\n",
       "       [0.17103631, 0.82896369],\n",
       "       [0.2002494 , 0.7997506 ],\n",
       "       [0.64822958, 0.35177042],\n",
       "       [0.82873596, 0.17126404],\n",
       "       [0.5567413 , 0.4432587 ],\n",
       "       [0.82896879, 0.17103121],\n",
       "       [0.24597824, 0.75402176],\n",
       "       [0.77581879, 0.22418121],\n",
       "       [0.46578752, 0.53421248],\n",
       "       [0.85894444, 0.14105556],\n",
       "       [0.03009539, 0.96990461],\n",
       "       [0.34701192, 0.65298808],\n",
       "       [0.79353071, 0.20646929],\n",
       "       [0.13075137, 0.86924863],\n",
       "       [0.69055562, 0.30944438],\n",
       "       [0.78727458, 0.21272542],\n",
       "       [0.74829809, 0.25170191],\n",
       "       [0.65670819, 0.34329181],\n",
       "       [0.21333794, 0.78666206],\n",
       "       [0.7831715 , 0.2168285 ],\n",
       "       [0.29057003, 0.70942997],\n",
       "       [0.19108479, 0.80891521],\n",
       "       [0.19370815, 0.80629185],\n",
       "       [0.84923897, 0.15076103],\n",
       "       [0.82812693, 0.17187307],\n",
       "       [0.44736286, 0.55263714],\n",
       "       [0.7925475 , 0.2074525 ],\n",
       "       [0.827122  , 0.172878  ],\n",
       "       [0.4830727 , 0.5169273 ],\n",
       "       [0.29159397, 0.70840603],\n",
       "       [0.79226738, 0.20773262],\n",
       "       [0.67119171, 0.32880829],\n",
       "       [0.84665376, 0.15334624],\n",
       "       [0.81231074, 0.18768926],\n",
       "       [0.08638498, 0.91361502],\n",
       "       [0.86497717, 0.13502283],\n",
       "       [0.47236678, 0.52763322],\n",
       "       [0.82347682, 0.17652318],\n",
       "       [0.83432838, 0.16567162],\n",
       "       [0.64011138, 0.35988862],\n",
       "       [0.78312789, 0.21687211],\n",
       "       [0.80301331, 0.19698669],\n",
       "       [0.28864311, 0.71135689],\n",
       "       [0.21295378, 0.78704622],\n",
       "       [0.45166878, 0.54833122],\n",
       "       [0.73000705, 0.26999295],\n",
       "       [0.66244292, 0.33755708],\n",
       "       [0.38133856, 0.61866144],\n",
       "       [0.77720861, 0.22279139],\n",
       "       [0.75582152, 0.24417848],\n",
       "       [0.82620958, 0.17379042],\n",
       "       [0.32639349, 0.67360651],\n",
       "       [0.0449397 , 0.9550603 ],\n",
       "       [0.22538659, 0.77461341],\n",
       "       [0.48052886, 0.51947114],\n",
       "       [0.63554739, 0.36445261],\n",
       "       [0.81473368, 0.18526632],\n",
       "       [0.75122446, 0.24877554],\n",
       "       [0.81081626, 0.18918374],\n",
       "       [0.76888202, 0.23111798],\n",
       "       [0.67132532, 0.32867468],\n",
       "       [0.52291071, 0.47708929],\n",
       "       [0.02225898, 0.97774102],\n",
       "       [0.79931673, 0.20068327],\n",
       "       [0.15252436, 0.84747564],\n",
       "       [0.45267583, 0.54732417],\n",
       "       [0.73238602, 0.26761398],\n",
       "       [0.6419613 , 0.3580387 ],\n",
       "       [0.22748623, 0.77251377],\n",
       "       [0.49675435, 0.50324565],\n",
       "       [0.78945579, 0.21054421],\n",
       "       [0.22913507, 0.77086493],\n",
       "       [0.81365784, 0.18634216],\n",
       "       [0.50354295, 0.49645705],\n",
       "       [0.70287104, 0.29712896],\n",
       "       [0.872566  , 0.127434  ],\n",
       "       [0.63379889, 0.36620111],\n",
       "       [0.78895498, 0.21104502],\n",
       "       [0.62734291, 0.37265709],\n",
       "       [0.83209886, 0.16790114],\n",
       "       [0.95633656, 0.04366344],\n",
       "       [0.00398263, 0.99601737],\n",
       "       [0.88016392, 0.11983608],\n",
       "       [0.18189804, 0.81810196],\n",
       "       [0.66906691, 0.33093309],\n",
       "       [0.23640041, 0.76359959],\n",
       "       [0.65669146, 0.34330854],\n",
       "       [0.12762255, 0.87237745],\n",
       "       [0.06790459, 0.93209541],\n",
       "       [0.66694441, 0.33305559],\n",
       "       [0.51538952, 0.48461048],\n",
       "       [0.83151515, 0.16848485],\n",
       "       [0.21097962, 0.78902038],\n",
       "       [0.62596167, 0.37403833],\n",
       "       [0.18100226, 0.81899774],\n",
       "       [0.82312249, 0.17687751],\n",
       "       [0.85439695, 0.14560305],\n",
       "       [0.28956349, 0.71043651],\n",
       "       [0.9726663 , 0.0273337 ],\n",
       "       [0.12415057, 0.87584943],\n",
       "       [0.12700763, 0.87299237],\n",
       "       [0.81093273, 0.18906727],\n",
       "       [0.04968366, 0.95031634],\n",
       "       [0.59443315, 0.40556685],\n",
       "       [0.82742462, 0.17257538],\n",
       "       [0.16923291, 0.83076709],\n",
       "       [0.06923757, 0.93076243],\n",
       "       [0.63018749, 0.36981251],\n",
       "       [0.7088279 , 0.2911721 ],\n",
       "       [0.02451432, 0.97548568],\n",
       "       [0.66142614, 0.33857386],\n",
       "       [0.75966052, 0.24033948],\n",
       "       [0.12026478, 0.87973522],\n",
       "       [0.01405389, 0.98594611],\n",
       "       [0.32161744, 0.67838256],\n",
       "       [0.63974669, 0.36025331],\n",
       "       [0.61288334, 0.38711666],\n",
       "       [0.91271267, 0.08728733],\n",
       "       [0.85322791, 0.14677209],\n",
       "       [0.84023271, 0.15976729],\n",
       "       [0.22878092, 0.77121908],\n",
       "       [0.23293935, 0.76706065],\n",
       "       [0.6872984 , 0.3127016 ],\n",
       "       [0.14826225, 0.85173775],\n",
       "       [0.79839565, 0.20160435],\n",
       "       [0.81395049, 0.18604951],\n",
       "       [0.82209313, 0.17790687],\n",
       "       [0.87481648, 0.12518352],\n",
       "       [0.33758468, 0.66241532],\n",
       "       [0.11106213, 0.88893787],\n",
       "       [0.79832601, 0.20167399],\n",
       "       [0.7749921 , 0.2250079 ],\n",
       "       [0.9255955 , 0.0744045 ],\n",
       "       [0.05001786, 0.94998214],\n",
       "       [0.83301992, 0.16698008],\n",
       "       [0.08590483, 0.91409517],\n",
       "       [0.78922513, 0.21077487],\n",
       "       [0.85577927, 0.14422073],\n",
       "       [0.02391523, 0.97608477],\n",
       "       [0.77572069, 0.22427931],\n",
       "       [0.03921845, 0.96078155],\n",
       "       [0.37803218, 0.62196782],\n",
       "       [0.59496142, 0.40503858],\n",
       "       [0.57162681, 0.42837319],\n",
       "       [0.71758383, 0.28241617],\n",
       "       [0.35956525, 0.64043475],\n",
       "       [0.27968014, 0.72031986],\n",
       "       [0.19663817, 0.80336183],\n",
       "       [0.27946624, 0.72053376],\n",
       "       [0.07929479, 0.92070521],\n",
       "       [0.22663651, 0.77336349],\n",
       "       [0.81944256, 0.18055744],\n",
       "       [0.03510308, 0.96489692],\n",
       "       [0.85030036, 0.14969964],\n",
       "       [0.81925352, 0.18074648],\n",
       "       [0.84222779, 0.15777221]])"
      ]
     },
     "execution_count": 32,
     "metadata": {},
     "output_type": "execute_result"
    }
   ],
   "source": [
    "y_pred_proba"
   ]
  },
  {
   "cell_type": "code",
   "execution_count": 33,
   "id": "f6b5d93a",
   "metadata": {
    "ExecuteTime": {
     "end_time": "2021-07-17T03:50:10.315385Z",
     "start_time": "2021-07-17T03:50:10.311753Z"
    }
   },
   "outputs": [],
   "source": [
    "# 予測結果を提出する\n",
    "submission['Survived'] = y_pred.astype(int)\n",
    "OUTPUT_DIR = '../output/'\n",
    "submission.to_csv(OUTPUT_DIR + 'pred.csv', index=False)"
   ]
  },
  {
   "cell_type": "code",
   "execution_count": null,
   "id": "96331f23",
   "metadata": {},
   "outputs": [],
   "source": []
  }
 ],
 "metadata": {
  "kernelspec": {
   "display_name": "Python 3",
   "language": "python",
   "name": "python3"
  },
  "language_info": {
   "codemirror_mode": {
    "name": "ipython",
    "version": 3
   },
   "file_extension": ".py",
   "mimetype": "text/x-python",
   "name": "python",
   "nbconvert_exporter": "python",
   "pygments_lexer": "ipython3",
   "version": "3.8.10"
  },
  "toc": {
   "base_numbering": 1,
   "nav_menu": {},
   "number_sections": true,
   "sideBar": true,
   "skip_h1_title": false,
   "title_cell": "Table of Contents",
   "title_sidebar": "Contents",
   "toc_cell": false,
   "toc_position": {},
   "toc_section_display": true,
   "toc_window_display": false
  }
 },
 "nbformat": 4,
 "nbformat_minor": 5
}
